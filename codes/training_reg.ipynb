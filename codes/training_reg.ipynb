{
 "cells": [
  {
   "cell_type": "code",
   "execution_count": null,
   "metadata": {},
   "outputs": [],
   "source": [
    "import pickle\n",
    "import os\n",
    "import sys\n",
    "import numpy as np\n",
    "import TensorflowUtils as utils\n",
    "import tensorflow as tf\n",
    "import cv2\n",
    "import pandas\n",
    "import config\n",
    "import tqdm\n",
    "import time\n",
    "conf, _ = config.get_config()"
   ]
  },
  {
   "cell_type": "code",
   "execution_count": null,
   "metadata": {},
   "outputs": [],
   "source": [
    "'''setting'''\n",
    "gpus = [conf.gpu] # Here I set CUDA to only see one GPU\n",
    "os.environ['CUDA_VISIBLE_DEVICES']=','.join([str(i) for i in gpus])"
   ]
  },
  {
   "cell_type": "code",
   "execution_count": null,
   "metadata": {},
   "outputs": [],
   "source": [
    "print(conf.tar_model)\n",
    "if conf.tar_model == 'reg':\n",
    "    import model_reg as model\n",
    "elif conf.tar_model == 'dan':\n",
    "    import model_dan as model\n",
    "else:\n",
    "    sys.exit(\"Sorry, Wrong Model!\")\n",
    "    \n",
    "model_dir = './'+conf.tar_model+'/'\n",
    "data_dir = './dataset/'\n",
    "logs_dir = model_dir+'logs/'\n",
    "imgs_dir = model_dir+'imgs/'\n",
    "pred_dir = model_dir+'pred/'\n",
    "\n",
    "if not os.path.exists(model_dir):\n",
    "    os.makedirs(model_dir)\n",
    "if not os.path.exists(logs_dir):\n",
    "    os.makedirs(logs_dir)\n",
    "if not os.path.exists(imgs_dir):\n",
    "    os.makedirs(imgs_dir)\n",
    "if not os.path.exists(pred_dir):\n",
    "    os.makedirs(pred_dir)"
   ]
  },
  {
   "cell_type": "code",
   "execution_count": null,
   "metadata": {},
   "outputs": [],
   "source": [
    "db_helen = pickle.load(open(data_dir+conf.dataset+\".pickle\", \"rb\" ) )\n",
    "print(db_helen.keys())\n",
    "print(db_helen['trainset'].keys())\n",
    "# print the shape of tratining set\n",
    "print(db_helen['trainset']['pts'].shape)\n",
    "print(db_helen['trainset']['img'].shape)\n",
    "# print the shape of testing set\n",
    "print(db_helen['testset']['pts'].shape)\n",
    "print(db_helen['testset']['img'].shape)"
   ]
  },
  {
   "cell_type": "code",
   "execution_count": null,
   "metadata": {
    "scrolled": false
   },
   "outputs": [],
   "source": [
    "# Define Model Input (x) and Output (y_),  y_ = f(x)\n",
    "x = tf.placeholder(tf.float32, [None, 224,224,3])\n",
    "y_ = tf.placeholder(tf.float32, [None,68,2]) # 136\n",
    "train_phase = tf.placeholder(tf.bool, name='phase_train')\n",
    "keeprate = tf.placeholder(tf.float32, name=\"keeprate\")\n",
    "s_mean = tf.placeholder(tf.float32, [None,68,2]) "
   ]
  },
  {
   "cell_type": "markdown",
   "metadata": {},
   "source": [
    "# model "
   ]
  },
  {
   "cell_type": "code",
   "execution_count": null,
   "metadata": {},
   "outputs": [],
   "source": [
    "y_out = model.inference(x, s_mean, keeprate, train_phase, False)\n",
    "y_out_point = tf.reshape(y_out,shape=(-1,68,2))\n",
    "\n",
    "# Define the Model Loss (4)\n",
    "avg_losses = tf.reduce_mean(tf.reduce_mean(tf.sqrt(tf.reduce_sum(tf.squared_difference(y_, y_out),-1)),-1))\n",
    "\n",
    "# Define the Optimizer (5)\n",
    "train_step = tf.train.AdamOptimizer(conf.lr).minimize(avg_losses)"
   ]
  },
  {
   "cell_type": "code",
   "execution_count": null,
   "metadata": {},
   "outputs": [],
   "source": [
    "# check parameter\n",
    "total_parameters = 0\n",
    "for variable in tf.trainable_variables():\n",
    "    # shape is an array of tf.Dimension\n",
    "    shape = variable.get_shape()\n",
    "    variable_parameters = 1\n",
    "    for dim in shape:\n",
    "        variable_parameters *= dim.value\n",
    "    total_parameters += variable_parameters\n",
    "print('total_parameters', total_parameters)"
   ]
  },
  {
   "cell_type": "code",
   "execution_count": null,
   "metadata": {},
   "outputs": [],
   "source": [
    "# initialize the model\n",
    "extra_update_ops = tf.get_collection(tf.GraphKeys.UPDATE_OPS)\n",
    "\n",
    "print(\"Setting up Saver...\")\n",
    "saver = tf.train.Saver(tf.global_variables())"
   ]
  },
  {
   "cell_type": "code",
   "execution_count": null,
   "metadata": {
    "scrolled": false
   },
   "outputs": [],
   "source": [
    "sess = tf.InteractiveSession(config=tf.ConfigProto(allow_soft_placement=True, log_device_placement=False))\n",
    "if (conf.training == False):\n",
    "    ckpt = tf.train.get_checkpoint_state(logs_dir)\n",
    "    if ckpt and ckpt.model_checkpoint_path:\n",
    "        saver.restore(sess, ckpt.model_checkpoint_path)\n",
    "        print('Loading sucessfully')\n",
    "    else:\n",
    "        print('No checkpoint file found')\n",
    "        raise\n",
    "else:\n",
    "    init = tf.global_variables_initializer()\n",
    "    sess.run(init)"
   ]
  },
  {
   "cell_type": "code",
   "execution_count": null,
   "metadata": {},
   "outputs": [],
   "source": [
    "# write image to file\n",
    "def write_result(batch_xs_valid, batch_pts, iter_num):\n",
    "    b = random.randint(0, batch_pts.shape[0]-1)\n",
    "    img = batch_xs_valid[b].copy()\n",
    "    pts = batch_pts[b] #print(pts)\n",
    "    for p in range(pts.shape[0]):\n",
    "        #print(\"p\",p, pts[p+1,0],pts[p+1,1])\n",
    "        cv2.circle(img,(pts[p,0],pts[p,1]), 2, (255,0,0), -1)\n",
    "    img = cv2.cvtColor(img, cv2.COLOR_RGB2BGR)\n",
    "\n",
    "    cv2.imwrite(imgs_dir + 'infer_'+str(iter_num)+'.png', img)"
   ]
  },
  {
   "cell_type": "code",
   "execution_count": null,
   "metadata": {},
   "outputs": [],
   "source": [
    "batches = utils.get_batch(db_helen['trainset']['img'], db_helen['trainset']['pts'], batch_size = conf.batch_size)\n",
    "valid_batches = utils.get_batch(db_helen['testset']['img'], db_helen['testset']['pts'], batch_size = conf.batch_size)"
   ]
  },
  {
   "cell_type": "code",
   "execution_count": null,
   "metadata": {
    "scrolled": false
   },
   "outputs": [],
   "source": [
    "with open('avg_shape.pickle', 'rb') as handle:\n",
    "    avg_shape = pickle.load(handle)\n",
    "\n",
    "if conf.training == True:\n",
    "    step = 0\n",
    "    stop_count = 0\n",
    "    max_validloss = 99999\n",
    "    while True:\n",
    "        batch_xs, batch_ys = next(batches)\n",
    "        batch_xs_aug, batch_ys_aug =utils.data_augmentation(batch_xs, batch_ys)\n",
    "        \n",
    "\n",
    "        sess.run([extra_update_ops,train_step], feed_dict={x: batch_xs_aug/255,\n",
    "                                                           s_mean:avg_shape,\n",
    "                                                           y_: batch_ys_aug,\n",
    "                                                           train_phase: True,\n",
    "                                                           keeprate:0.5})\n",
    "        if step % 500 == 0:\n",
    "            train_loss = sess.run(avg_losses, feed_dict={x: batch_xs_aug/255,\n",
    "                                                           s_mean:avg_shape,\n",
    "                                                           y_: batch_ys_aug,\n",
    "                                                           train_phase: False,\n",
    "                                                           keeprate:1.0})\n",
    "            print(\"[T] Step: %d, loss:%g\" % (step, np.mean(train_loss)))\n",
    "            \n",
    "        if (step % 1000 == 0):\n",
    "            # get training accr\n",
    "            # calculate all batches\n",
    "            valid_losses = []\n",
    "            for i in tqdm.trange(int((db_helen['testset']['pts'].shape[0])/conf.batch_size)):\n",
    "                t_batch_x, t_batch_y = next(valid_batches)\n",
    "                infered_pts, valid_loss= sess.run([y_out_point, avg_losses], feed_dict={x: t_batch_x/255,\n",
    "                                                                                         s_mean:avg_shape,\n",
    "                                                                                         y_: t_batch_y,\n",
    "                                                                                         train_phase: False,\n",
    "                                                                                         keeprate:1.0})\n",
    "                valid_losses.append(valid_loss)\n",
    "            write_result(t_batch_x, infered_pts, step)\n",
    "            \n",
    "            calc_v_loss = np.mean(valid_losses)\n",
    "\n",
    "            if calc_v_loss < max_validloss:\n",
    "                saver.save(sess, logs_dir + \"model.ckpt\", step)\n",
    "                print(\"[V*] Step: %d, loss:%g\" % (step, calc_v_loss))\n",
    "                max_validloss = calc_v_loss\n",
    "                stop_count = 0\n",
    "            else:\n",
    "                print(\"[V] Step: %d, loss:%g\" % (step, calc_v_loss))\n",
    "                stop_count = stop_count + 1\n",
    "                if stop_count > (conf.stop_tor + 1):\n",
    "                    break;\n",
    "        step = step +1\n",
    "        \n",
    "else: # evaluate\n",
    "    testing_batch = conf.batch_size\n",
    "    inferred_map = []\n",
    "    start_time = time.time()\n",
    "    for t in tqdm.trange(int(db_helen['testset']['img'].shape[0]/testing_batch)+1):\n",
    "        t_batch_x = db_helen['testset']['img'][(t*testing_batch):((t+1)*testing_batch)]\n",
    "        t_batch_y = db_helen['testset']['pts'][(t*testing_batch):((t+1)*testing_batch)]\n",
    "\n",
    "        if (t == (int(db_helen['testset']['img'].shape[0]/testing_batch)+1)):\n",
    "            t_batch_x = db_helen['testset']['img'][(t*testing_batch):]\n",
    "            t_batch_y = db_helen['testset']['pts'][(t*testing_batch):]\n",
    "            \n",
    "        feed_dict={x: t_batch_x/255,\n",
    "                   s_mean:avg_shape,\n",
    "                   y_: t_batch_y,\n",
    "                   train_phase: False,\n",
    "                   keeprate:1.0}\n",
    "\n",
    "        infered_pts, acc_valid= sess.run([y_out_point, avg_losses],\n",
    "                                         feed_dict=feed_dict)\n",
    "\n",
    "        if (t == 0):\n",
    "            inferred_map = infered_pts\n",
    "        else:\n",
    "            inferred_map = np.concatenate((inferred_map, infered_pts), axis=0)\n",
    "            \n",
    "    used_time = time.time()-start_time\n",
    "    print('Avg. inference time: %.4f' % (used_time/db_helen['testset']['img'].shape[0]))\n",
    "    inferred_map = np.asarray(inferred_map)\n",
    "\n",
    "    pts_maps = np.reshape(inferred_map, newshape=(-1,inferred_map.shape[1],inferred_map.shape[2]))\n",
    "    \n",
    "    norm_error_image, norm_error_image_eye= utils.eval_norm_error_image(pts_maps, db_helen['testset']['pts'])\n",
    "    \n",
    "    with open(model_dir + 'pts_'+ str(conf.testing)+ '.pickle', 'wb') as handle:\n",
    "        pickle.dump(pts_maps, handle)\n",
    "        \n",
    "    pandas.DataFrame({'loss':norm_error_image,'loss_eye':norm_error_image_eye}).to_csv(model_dir + 'norm_error_image_' + str(conf.testing)+ '.csv')\n",
    "    for idx, content in enumerate(zip(db_helen['testset']['img'],pts_maps)):\n",
    "        img = content[0].copy()\n",
    "        for kp_idx, keypoint in enumerate(content[1]):\n",
    "            cv2.circle(img,(keypoint[0],keypoint[1]), 2, (0,255,0), -1)\n",
    "\n",
    "        cv2.imwrite(pred_dir + str(idx)+ '.png', img)\n",
    "\n",
    "        \n",
    "sess.close()"
   ]
  }
 ],
 "metadata": {
  "kernelspec": {
   "display_name": "Python 3",
   "language": "python",
   "name": "python3"
  },
  "language_info": {
   "codemirror_mode": {
    "name": "ipython",
    "version": 3
   },
   "file_extension": ".py",
   "mimetype": "text/x-python",
   "name": "python",
   "nbconvert_exporter": "python",
   "pygments_lexer": "ipython3",
   "version": "3.5.3"
  }
 },
 "nbformat": 4,
 "nbformat_minor": 2
}
