{
 "cells": [
  {
   "cell_type": "code",
   "execution_count": 1,
   "metadata": {},
   "outputs": [],
   "source": [
    "import cv2\n",
    "import os\n",
    "import matplotlib.pyplot as plt\n",
    "import pandas\n",
    "import numpy as np\n",
    "import pickle"
   ]
  },
  {
   "cell_type": "raw",
   "metadata": {},
   "source": [
    "db_helen = pickle.load(open(data_dir+\"HELEN.pickle\", \"rb\" ) )"
   ]
  },
  {
   "cell_type": "raw",
   "metadata": {},
   "source": [
    "db_300w = pickle.load(open(data_dir+\"300W.pickle\", \"rb\" ) )"
   ]
  },
  {
   "cell_type": "raw",
   "metadata": {},
   "source": [
    "db_LFPW = pickle.load(open(data_dir+\"LFPW.pickle\", \"rb\" ) )"
   ]
  },
  {
   "cell_type": "raw",
   "metadata": {},
   "source": [
    "db_300w['img'].keys()"
   ]
  },
  {
   "cell_type": "markdown",
   "metadata": {},
   "source": [
    "# image and points to pickle"
   ]
  },
  {
   "cell_type": "raw",
   "metadata": {},
   "source": [
    "db_combined = {}"
   ]
  },
  {
   "cell_type": "raw",
   "metadata": {
    "scrolled": false
   },
   "source": [
    "db_combined_train = np.concatenate((db_LFPW['img']['trainset'],\n",
    "                                  db_helen['img']['trainset']),axis = 0)\n",
    "\n",
    "db_combined_test = np.concatenate((db_LFPW['img']['testset'],\n",
    "                                   db_helen['img']['testset'],\n",
    "                                  db_300w['img']['02_Outdoor'],\n",
    "                                  db_300w['img']['01_Indoor']),axis = 0)"
   ]
  },
  {
   "cell_type": "markdown",
   "metadata": {},
   "source": [
    "img = {'trainset':db_combined_train,\n",
    "      'testset':db_combined_test}"
   ]
  },
  {
   "cell_type": "raw",
   "metadata": {},
   "source": [
    "print(db_combined_train.shape)\n",
    "print(db_combined_test.shape)"
   ]
  },
  {
   "cell_type": "raw",
   "metadata": {},
   "source": [
    "img.keys()"
   ]
  },
  {
   "cell_type": "raw",
   "metadata": {},
   "source": [
    "db_combined_train = np.concatenate((db_LFPW['pts']['trainset'],\n",
    "                                  db_helen['pts']['trainset']),axis = 0)\n",
    "\n",
    "db_combined_test = np.concatenate((db_LFPW['pts']['testset'],\n",
    "                                   db_helen['pts']['testset'],\n",
    "                                  db_300w['pts']['02_Outdoor'],\n",
    "                                  db_300w['pts']['01_Indoor']),axis = 0)"
   ]
  },
  {
   "cell_type": "raw",
   "metadata": {},
   "source": [
    "pts = {'trainset':db_combined_train,\n",
    "      'testset':db_combined_test}"
   ]
  },
  {
   "cell_type": "raw",
   "metadata": {},
   "source": [
    "print(db_combined_train.shape)\n",
    "print(db_combined_test.shape)"
   ]
  },
  {
   "cell_type": "raw",
   "metadata": {},
   "source": [
    "db_combined = {\n",
    "    'img':img,\n",
    "    'pts':pts\n",
    "}"
   ]
  },
  {
   "cell_type": "raw",
   "metadata": {},
   "source": [
    "db_combined.keys()\n",
    "db_combined['img'].keys()\n",
    "db_combined['pts'].keys()\n",
    "print(db_combined['img']['testset'].shape)\n",
    "print(db_combined['pts']['testset'].shape)\n",
    "print(db_combined['img']['trainset'].shape)\n",
    "print(db_combined['pts']['trainset'].shape)"
   ]
  },
  {
   "cell_type": "markdown",
   "metadata": {},
   "source": [
    "with open('./dataset/combined.pickle', 'wb') as handle:\n",
    "    pickle.dump(db_combined, handle)"
   ]
  },
  {
   "cell_type": "code",
   "execution_count": 2,
   "metadata": {},
   "outputs": [
    {
     "name": "stdout",
     "output_type": "stream",
     "text": [
      "dict_keys(['testset', 'trainset'])\n",
      "(1796, 224, 224, 3)\n",
      "(1796, 68, 2)\n",
      "(3148, 224, 224, 3)\n",
      "(3148, 68, 2)\n"
     ]
    }
   ],
   "source": [
    "db_helen = pickle.load(open( 'G:/datasets/facial_landmarks/combined_new.pickle', \"rb\" ) )\n",
    "print(db_helen.keys())\n",
    "print(db_helen['testset']['img'].shape)\n",
    "print(db_helen['testset']['pts'].shape)\n",
    "print(db_helen['trainset']['img'].shape)\n",
    "print(db_helen['trainset']['pts'].shape)"
   ]
  },
  {
   "cell_type": "code",
   "execution_count": 3,
   "metadata": {},
   "outputs": [],
   "source": [
    "set_type = 'testset'\n"
   ]
  },
  {
   "cell_type": "code",
   "execution_count": 4,
   "metadata": {},
   "outputs": [],
   "source": [
    "# v2.imwrite(model_dir+'imgs_vgg/infer_'+str(iter_num)+'.png', img) \n",
    "\n",
    "for idx, content in enumerate(zip(db_helen[set_type]['img'], db_helen[set_type]['pts'])):\n",
    "    img = content[0].copy()\n",
    "    # img = cv2.cvtColor(img,cv2.COLOR_BGR2RGB)\n",
    "    for kp_idx, keypoint in enumerate(content[1]):\n",
    "        cv2.circle(img,(keypoint[0],keypoint[1]), 1, (0,255,0), -1)\n",
    "        #cv2.putText(img, str(kp_idx), (keypoint[0],keypoint[1]), cv2.FONT_HERSHEY_SIMPLEX, 0.3,(255,255,255),1,cv2.LINE_AA)\n",
    "    \n",
    "    cv2.imwrite('G:/datasets/facial_landmarks/imgs/'+ set_type + '_'+ str(idx)+'.png', img) \n",
    "\n",
    "#     plt.imshow(img) # before and after\n",
    "#     plt.show()"
   ]
  },
  {
   "cell_type": "code",
   "execution_count": 5,
   "metadata": {},
   "outputs": [
    {
     "ename": "FileNotFoundError",
     "evalue": "[Errno 2] No such file or directory: 'd:/datasets/avg_shape.pickle'",
     "output_type": "error",
     "traceback": [
      "\u001b[1;31m---------------------------------------------------------------------------\u001b[0m",
      "\u001b[1;31mFileNotFoundError\u001b[0m                         Traceback (most recent call last)",
      "\u001b[1;32m<ipython-input-5-2ee7a4314aa7>\u001b[0m in \u001b[0;36m<module>\u001b[1;34m()\u001b[0m\n\u001b[1;32m----> 1\u001b[1;33m \u001b[1;32mwith\u001b[0m \u001b[0mopen\u001b[0m\u001b[1;33m(\u001b[0m\u001b[1;34m'd:/datasets/avg_shape.pickle'\u001b[0m\u001b[1;33m,\u001b[0m \u001b[1;34m'wb'\u001b[0m\u001b[1;33m)\u001b[0m \u001b[1;32mas\u001b[0m \u001b[0mhandle\u001b[0m\u001b[1;33m:\u001b[0m\u001b[1;33m\u001b[0m\u001b[0m\n\u001b[0m\u001b[0;32m      2\u001b[0m     \u001b[0mpickle\u001b[0m\u001b[1;33m.\u001b[0m\u001b[0mdump\u001b[0m\u001b[1;33m(\u001b[0m\u001b[0mnp\u001b[0m\u001b[1;33m.\u001b[0m\u001b[0mmean\u001b[0m\u001b[1;33m(\u001b[0m\u001b[0mdb_helen\u001b[0m\u001b[1;33m[\u001b[0m\u001b[1;34m'trainset'\u001b[0m\u001b[1;33m]\u001b[0m\u001b[1;33m[\u001b[0m\u001b[1;34m'pts'\u001b[0m\u001b[1;33m]\u001b[0m\u001b[1;33m,\u001b[0m\u001b[0maxis\u001b[0m\u001b[1;33m=\u001b[0m\u001b[1;36m0\u001b[0m\u001b[1;33m,\u001b[0m\u001b[0mkeepdims\u001b[0m\u001b[1;33m=\u001b[0m\u001b[1;32mTrue\u001b[0m\u001b[1;33m)\u001b[0m\u001b[1;33m,\u001b[0m \u001b[0mhandle\u001b[0m\u001b[1;33m)\u001b[0m\u001b[1;33m\u001b[0m\u001b[0m\n",
      "\u001b[1;31mFileNotFoundError\u001b[0m: [Errno 2] No such file or directory: 'd:/datasets/avg_shape.pickle'"
     ]
    }
   ],
   "source": [
    "with open('d:/datasets/avg_shape.pickle', 'wb') as handle:\n",
    "    pickle.dump(np.mean(db_helen['trainset']['pts'],axis=0,keepdims=True), handle)"
   ]
  }
 ],
 "metadata": {
  "kernelspec": {
   "display_name": "Python 3",
   "language": "python",
   "name": "python3"
  },
  "language_info": {
   "codemirror_mode": {
    "name": "ipython",
    "version": 3
   },
   "file_extension": ".py",
   "mimetype": "text/x-python",
   "name": "python",
   "nbconvert_exporter": "python",
   "pygments_lexer": "ipython3",
   "version": "3.5.3"
  }
 },
 "nbformat": 4,
 "nbformat_minor": 2
}
